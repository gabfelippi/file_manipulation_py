{
 "cells": [
  {
   "cell_type": "markdown",
   "metadata": {},
   "source": [
    "### Questão 1\n",
    "Faça um código que leia dois arquivos: `par.txt` e `impar.txt` (você deve criá-los) e que crie um só arquivo de saída chamado `pareeimpar.txt` com todas as linhas dos outros dois arquivos, de forma a preservar a ordem crescente numérica.\n",
    "\n",
    "Você pode criar os arquivos `par.txt` e `impar.txt` completando com números que você achar mais adequado. Para facilitar, considere que os arquivos devem possuir apenas números inteiros, deve haver apenas 1 número por linha, os números já devem estar ordenados em ordem crescente, é possível a existência de linhas em branco e cada arquivo pode ter um número diferente de linhas.\n",
    "--- Se os números não estiverem ordenados, o arquivo de saída será gerado do mesmo jeito, porém de forma 'desordenada'.\n",
    "\n",
    "Dica 1: podem usar a função `strip()` para remover os espaços em branco (ou linhas em branco)."
   ]
  },
  {
   "cell_type": "code",
   "execution_count": null,
   "metadata": {},
   "outputs": [],
   "source": [
    "import random\n",
    "import text\n",
    "\n",
    "def create_odds_sorted(): #creates a file with odd numbers\n",
    "    with open('odds.txt', 'w') as file: #opens a file to write\n",
    "        list_odds = [] #opens a list\n",
    "        for n in range(50):\n",
    "            number = random.randint(0,500) #generates a random number between 0 and 500\n",
    "            if number % 2 != 0: #tests if the number is odd\n",
    "                list_odds.append(number) #appends the number in the list if it is odd\n",
    "        list_odds = sorted(list_odds) #sorts the list\n",
    "        for n in list_odds: #writes the list in the file \n",
    "            file.write('%d \\n' % n) #writes each number in each line\n",
    "    return open('odds.txt', 'r') #returns the reading of the file\n",
    "\n",
    "\n",
    "def create_evens_sorted(): #creates a file with even numbers\n",
    "    with open('evens.txt', 'w') as file: #opens a file to write\n",
    "        list_evens = [] #opens a list\n",
    "        for n in range(50):\n",
    "            number = random.randint(0,500) #generates a random number between 0 and 500\n",
    "            if number % 2 == 0: #tests if the number is even\n",
    "                list_evens.append(number) #appends the number in the list if it is odd\n",
    "        list_evens = sorted(list_evens) #sorts the list\n",
    "        for n in list_evens: #writes the list in the file \n",
    "            file.write('%d \\n' % n) #writes each number in each line\n",
    "    return open('evens.txt', 'r') #returns the reading of the file\n",
    "\n",
    "def read_number(file):\n",
    "    while True:\n",
    "        number = file.readline()\n",
    "        if number == \"\": # Verifica se conseguiu ler algo\n",
    "            return None\n",
    "        if number.strip()!=\"\": # Ignora linhas em branco\n",
    "            return int(number)\n",
    "\n",
    "def write_number(file, n):\n",
    "    file.write(\"%d\\n\" % n)\n",
    "\n",
    "\n",
    "evens = create_evens_sorted()\n",
    "odds = create_odds_sorted()\n",
    "evens_and_odds = open(\"evens_and_odds.txt\",\"w\") #Aqui será gerado um arquivo de saída. Write.\n",
    "evens_n = read_number(evens)\n",
    "odds_n = read_number(odds)\n",
    "while True:\n",
    "    if evens_n == None and odds_n == None: # Termina se ambos forem None\n",
    "        break\n",
    "    if evens_n != None and (odds_n==None or evens_n<=odds_n):\n",
    "        write_number(evens_and_odds, evens_n)\n",
    "        evens_n = read_number(evens)\n",
    "    if odds_n != None and (evens_n==None or odds_n<=evens_n):\n",
    "        write_number(evens_and_odds, odds_n)\n",
    "        odds_n = read_number(odds)\n",
    "\n",
    "evens_and_odds.close()\n",
    "evens.close()\n",
    "odds.close()"
   ]
  },
  {
   "cell_type": "markdown",
   "metadata": {},
   "source": [
    "### Questão 2\n",
    "Há alguns anos eu precisei extrair palavras de um determinado comprimento de alguns textos. Por que? Porque eu estava trabalhando com algumas coisas de Natural Language Programming eu queria encontrar adjetivos e atributos a fim de extrair um certo tipo de conhecimento de tais textos. Porém, como eram milhares de palavras, eu resolvi aplicar um primeiro filtro: tamanho das palavras (quantidade de caracteres).\n",
    "\n",
    "Aparentemente, a média de tamanho de uma palavra em inglês varia de 4,5 até 7 caracteres (Pierce, 1980). No português o tamanho médio gira em torno de 4,64 caracteres (Quaresma and Pinho, 2007) \n",
    "\n",
    "Considerando o arquivo `amontillado.txt` já existente (ou algum outro arquivo que você queira), **escreva um programa que imprima na tela somente palavras que possuam entre 4 e 7 caracteres (inclusive).**\n",
    "\n",
    "Dica: dá para usar a função `split()`. Ela divide uma string em uma lista onde cada palavra é um item dessa lista.\n",
    "\n",
    "Além de imprimir na tela, salve as palavras em um novo arquivo de saída.\n",
    "\n",
    "'Se houver curiosidade:'\n",
    "Pierce, J., 1980. An Introduction to Information Theory, 2nd Revised Edition. Dover\n",
    "Publications, New York, pp. 336\n",
    "\n",
    "Quaresma, P., Pinho, A., 2007. Análise de Frequências da Língua Portuguesa. In:\n",
    "Conferência Ibero-americana InterTIC. Porto: International Association for the\n",
    "Scientific Knowledge, pp. 267 –272. Retrieved from https://noctuam.files.wordpress.com/2019/02/intertic07pqap.pdf\n",
    "\n"
   ]
  },
  {
   "cell_type": "code",
   "execution_count": null,
   "metadata": {},
   "outputs": [],
   "source": [
    "def show_words(file_in, file_out):\n",
    "#Opens a file, select only the words with 4 to 7 letters and return a new file with only those words\n",
    "    for line in file_in: #reads the lines of the file\n",
    "        words = line.split() #creates a list of words from the file\n",
    "        alpha_words = [] #opens a list for words with only alphabetic characters\n",
    "        for word in words: \n",
    "            alpha_words.append(''.join(filter(lambda x: x.isalpha(), word))) #appends the filtered words with only alphabetic characters to the alphabetic words list\n",
    "        for word in alpha_words:\n",
    "            if (len(word) >= 4) and (len(word) <=7): #takes the words with 4 to 7 letters only\n",
    "                print(word, end=\" \") #prints it\n",
    "                file_out.write(\"%s\\n\" % word); #writes a new file with only those words\n",
    "\n",
    "\n",
    "file = open(\"amontillado.txt\",\"r\") #opens the file\n",
    "file_out = open(\"file-out-amontillado.txt\",\"w\") #writes a new file\n",
    "show_words(file, file_out) #calls the function\n",
    "file.close() #closes the file\n",
    "file_out.close() #closes the new file"
   ]
  }
 ],
 "metadata": {
  "kernelspec": {
   "display_name": "Python 3.10.2 64-bit",
   "language": "python",
   "name": "python3"
  },
  "language_info": {
   "codemirror_mode": {
    "name": "ipython",
    "version": 3
   },
   "file_extension": ".py",
   "mimetype": "text/x-python",
   "name": "python",
   "nbconvert_exporter": "python",
   "pygments_lexer": "ipython3",
   "version": "3.10.2"
  },
  "vscode": {
   "interpreter": {
    "hash": "173ae74ecd759d33659dc89cc0ace91dba90ddaa088b7a848a7f37d845ddcc5d"
   }
  }
 },
 "nbformat": 4,
 "nbformat_minor": 5
}
