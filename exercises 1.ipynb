{
 "cells": [
  {
   "cell_type": "markdown",
   "metadata": {},
   "source": [
    "### Questão 1\n",
    "A função `linhas_de()` carrega todas as linhas de um arquivo texto. Esta função já está incluída no **módulo** `text` do **pacote** `sin176` que acompanha este Jupyter Notebook. A função `linhas_de()` recebe como parâmetro o nome/caminho do arquivo texto que será lido, incluindo sua extensão. Exemplo: 'Nome1.txt'\n",
    "\n",
    "Escreva um código Python que utilize a função `linhas_de()` existente no pacote `sin176` para carregar o arquivo\n",
    "`A Princess of Mars-Edgar Rice Burroughs.txt` e em seguida mostrar:\n",
    "1. a quantidade total de linhas existente no arquivo;\n",
    "2. as 75 primeiras do arquivo.\n",
    "\n",
    "Lembre-se de importar o pacote com **import**."
   ]
  },
  {
   "cell_type": "code",
   "execution_count": null,
   "metadata": {},
   "outputs": [],
   "source": [
    "import text\n",
    "\n",
    "book = text.linhas_de('A Princess of Mars-Edgar Rice Burroughs.txt') #gets every line of the book as an element in a list\n",
    "print(f'The book has {len(book)} lines!\\n') #print the number of lines in the book\n",
    "print(f'The first seventy five lines of the book:\\n')\n",
    "for line in book[:75]: #prints the first seventy five lines in the book\n",
    "    print(line)"
   ]
  },
  {
   "cell_type": "markdown",
   "metadata": {},
   "source": [
    "### Questão 2\n",
    "O **pacote** Python `statistics` oferece várias funções que realizam operações estatísticas. O **pacote** `sin176` oferece em seu módulo `stats` as funções `min()` e `max()`(as funções recebem como parâmetro uma lista de números). Utilize estes pacotes para calcular a média, o desvio padrão, o valor mínimo e o valor máximo da lista de valores a seguir:\n",
    "\n",
    "`[10,45.3,8,12,33,65.3,81,17.9,21,48,13,62,44.3,5,87,32,4.1,76,94.1,69,56.7,53,22,74,27.4,75.4,93.7]`\n",
    "\n",
    "Não esqueça de importar o **statistics** e o **stats**"
   ]
  },
  {
   "cell_type": "code",
   "execution_count": null,
   "metadata": {},
   "outputs": [],
   "source": [
    "import stats \n",
    "import statistics\n",
    "\n",
    "list = [10,45.3,8,12,33,65.3,81,17.9,21,48,13,62,44.3,5,87,32,4.1,76,94.1,69,56.7,53,22,74,27.4,75.4,93.7]\n",
    "\n",
    "print(f'The standard deviation of the list is {statistics.stdev(list):.2f}.') #prints the standard deviation of the list\n",
    "print(f'The arithmetic mean of the list is {statistics.fmean(list):.2f}.') #prints the arithmetic mean of the list\n",
    "print(f'The lowest number of the list is {stats.min(list):.2f}.') #prints the lowest number in the list\n",
    "print(f'The highest number of the list is {stats.max(list):.2f}.') #prints the highest number in the list"
   ]
  },
  {
   "cell_type": "markdown",
   "metadata": {},
   "source": [
    "### Questão 3\n",
    "O **pacote** Python `statistics` oferece várias funções que realizam operações estatísticas. Utilize este pacote para apresentar a média, o desvio padrão de uma lista de valores que devem ser informados pelo usuário\n",
    "\n",
    "Crie uma nova lista que tenha como valores o quadrado da lista original (ou seja, eleve todos os valores da lista inicial à 2). \n",
    "Para o cálculo do quadrado de um número, utilize a função `quad()` existente no **módulo** `stats` do **pacote** `sin176`. A função `quad()` recebe como parâmetro um valor (float ou inteiro) e devolve seu quadrado. Apresente a média e o desvio padrão desta nova lista (a \"quadrada\"). \n",
    "\n",
    "Não esqueça de importar o **statistics** e o **stats**"
   ]
  },
  {
   "cell_type": "code",
   "execution_count": null,
   "metadata": {},
   "outputs": [],
   "source": [
    "import stats \n",
    "import statistics\n",
    "\n",
    "list = str(input(\"Insert a sequence of numbers, separeted by space: \")) #asks for a bunch of numbers\n",
    "\n",
    "list = [float(number) for number in list.split()] #converts the string into a list of float numbers\n",
    "quad_list = [] #opens a list for the square of numbers\n",
    "for number in list: #iterates the list to give the square of each number\n",
    "    quad_list.append(stats.quad(number))\n",
    "    \n",
    "print(f'The arithmetic mean of the given list is: {statistics.mean(list)}.') #prints the arithmetic mean of the given list\n",
    "print(f'The standard deviation of the given list is: {statistics.stdev(list)}.') #prints the standard deviation of the given list\n",
    "print(f'The square of the number from the given list is: {\", \".join(str(number) for number in quad_list)}.') #prints the square numbers of the given list"
   ]
  },
  {
   "cell_type": "markdown",
   "metadata": {},
   "source": [
    "### Questão 4\n",
    "A função `linha_nao_vazia()` do **módulo** `text` do **pacote** `sin176` retorna `True` quando recebe uma linha de texto\n",
    "não vazia e `False` em contrário.\n",
    "\n",
    "Escreva um trecho de código Python que combine a função `linha_nao_vazia` com a função _built-in_ `filter()` (procurem o que faz essa função e como usá-la - procurem o list() também) para extrair todas as linhas vazias do texto do arquivo `A Princess of Mars-Edgar Rice Burroughs.txt`. É possível usar a função `linhas_de()` para ler todas as linhas do arquivo (que conterá as linhas vazias) para em seguida aplicar o processo de\n",
    "filtragem.\n",
    "\n",
    "Apresente a quantidade de linhas antes e depois da filtragem e as 25 primeiras linhas em cada caso."
   ]
  },
  {
   "cell_type": "code",
   "execution_count": null,
   "metadata": {},
   "outputs": [],
   "source": [
    "import text \n",
    "\n",
    "book = text.linhas_de('A Princess of Mars-Edgar Rice Burroughs.txt') #gets the file text of the book and converts in a list of strings for each line\n",
    "filter = filter(text.linha_nao_vazia, book) #filters the book to get only lines with text\n",
    "only_lines = list(filter) #lists the filtered lines into only_lines\n",
    "\n",
    "print(f'The number of lines in the book is {len(book)}, but after the empty lines is removed, it is now {len(only_lines)}!\\n') #prints the number of lines\n",
    "print(f'The first tewnty-five lines of the book with empty lines:\\n')\n",
    "for line in book[:25]: #prints the first twenty-five lines of the book\n",
    "    print(line)\n",
    "print(f'\\nThe first tewnty-five lines of the book with no empty lines:\\n') \n",
    "for line in only_lines[:25]: #prints the first twenty-five lines of the only_lines\n",
    "    print(line)"
   ]
  },
  {
   "cell_type": "markdown",
   "metadata": {},
   "source": [
    "### Questão 5\n",
    "A função `linha_nao_vazia()` do **módulo** `text` do **pacote** `sin176` retorna `True` quando recebe uma linha de texto\n",
    "não vazia e `False` em contrário.\n",
    "\n",
    "Escreva um trecho de código Python que combine a função `linha_nao_vazia` com um _list comprehension_ (procurem o que é e como usar) para extrair todas as linhas vazias do texto do arquivo `A Princess of Mars-Edgar Rice Burroughs.txt`. É possível usar a função `linhas_de()` para ler todas as linhas do arquivo (que conterá as linhas vazias) para em seguida aplicar o processo de\n",
    "remoção de linhas vazias.\n",
    "\n",
    "Apresente a quantidade de linhas antes e depois da filtragem e as 25 primeiras linhas em cada caso."
   ]
  },
  {
   "cell_type": "code",
   "execution_count": null,
   "metadata": {},
   "outputs": [],
   "source": [
    "import text\n",
    "\n",
    "book = text.linhas_de('A Princess of Mars-Edgar Rice Burroughs.txt') #gets the file text of the book and converts in a list of strings for each line\n",
    "only_lines = [line for line in book if text.linha_nao_vazia(line)] #gets only the lines with any text from the book\n",
    "\n",
    "print(f'The number of lines in the book is {len(book)}, but after the empty lines is removed, it is now {len(only_lines)}!\\n') #prints the number of lines\n",
    "print(f'The first tewnty-five lines of the book with empty lines:\\n')\n",
    "for line in book[:25]: #prints the first twenty-five lines of the book\n",
    "    print(line)\n",
    "print(f'\\nThe first tewnty-five lines of the book with no empty lines:\\n') \n",
    "for line in only_lines[:25]: #prints the first twenty-five lines of the only_lines\n",
    "    print(line)"
   ]
  }
 ],
 "metadata": {
  "kernelspec": {
   "display_name": "Python 3.10.2 64-bit",
   "language": "python",
   "name": "python3"
  },
  "language_info": {
   "codemirror_mode": {
    "name": "ipython",
    "version": 3
   },
   "file_extension": ".py",
   "mimetype": "text/x-python",
   "name": "python",
   "nbconvert_exporter": "python",
   "pygments_lexer": "ipython3",
   "version": "3.10.2"
  },
  "vscode": {
   "interpreter": {
    "hash": "173ae74ecd759d33659dc89cc0ace91dba90ddaa088b7a848a7f37d845ddcc5d"
   }
  }
 },
 "nbformat": 4,
 "nbformat_minor": 5
}
